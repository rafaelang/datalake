{
 "cells": [
  {
   "cell_type": "code",
   "execution_count": 1,
   "metadata": {},
   "outputs": [],
   "source": [
    "# conding: utf-8\n",
    "\n",
    "from pyspark.sql.functions import UserDefinedFunction\n",
    "from pyspark.sql.types import *\n",
    "\n",
    "import json"
   ]
  },
  {
   "cell_type": "code",
   "execution_count": 2,
   "metadata": {},
   "outputs": [],
   "source": [
    "from pprint import pprint\n",
    "from sympy.interactive import printing\n",
    "printing.init_printing()"
   ]
  },
  {
   "cell_type": "code",
   "execution_count": 3,
   "metadata": {},
   "outputs": [],
   "source": [
    "\"\"\"\n",
    "    Este trecho de código é necessário apenas quando o notebook é executado em ambiente local\n",
    "\"\"\"\n",
    "\n",
    "from pyspark.context import SparkContext\n",
    "from pyspark.sql.session import SparkSession\n",
    "try:\n",
    "    sc = SparkContext('local')\n",
    "    spark = SparkSession(sc)\n",
    "except ValueError:\n",
    "    pass  # a spark context is already created"
   ]
  },
  {
   "cell_type": "markdown",
   "metadata": {},
   "source": [
    "### Recuperando schema interface"
   ]
  },
  {
   "cell_type": "code",
   "execution_count": 4,
   "metadata": {},
   "outputs": [],
   "source": [
    "# structured_jsons_path = '../../../../aws_s3/teste/structured_json/checkout/00_CheckoutOrder/001E600A63944702BF4EA7A92FCD3833/id/*'\n",
    "structured_jsons_path = '../../../../data/s3/checkout/structured_json/{*}CheckoutOrder/*/id/*'\n",
    "structured_df = spark.read.json(structured_jsons_path)\n",
    "\n",
    "schema = structured_df.schema"
   ]
  },
  {
   "cell_type": "markdown",
   "metadata": {},
   "source": [
    "### Lendo dados"
   ]
  },
  {
   "cell_type": "code",
   "execution_count": 5,
   "metadata": {},
   "outputs": [],
   "source": [
    "# history_datapath = '../../../../aws_s3/teste/history/checkout/001E600A63944702BF4EA7A92FCD3833/id/*'\n",
    "history_datapath = '../../../../data/s3/checkout/history/YY_CheckoutOrder/*/id/*'\n",
    "df = spark.read.json(history_datapath)"
   ]
  },
  {
   "cell_type": "markdown",
   "metadata": {},
   "source": [
    "### Código para converter os dados com spark usando cast"
   ]
  },
  {
   "cell_type": "markdown",
   "metadata": {},
   "source": [
    "#### Casting de Items"
   ]
  },
  {
   "cell_type": "code",
   "execution_count": null,
   "metadata": {},
   "outputs": [],
   "source": [
    "# Get Item Type\n",
    "types = filter(lambda f: f.name == \"Items\", structured_df.schema.fields)\n",
    "itemType = types[0].dataType\n",
    "\n",
    "def convert_item(data):\n",
    "    def _parse_product_categories(raw_product_categories):\n",
    "        product_categories = []\n",
    "        for k,v in raw_product_categories.items():\n",
    "            product_categories.append({\n",
    "                'id': k,\n",
    "                'name': v\n",
    "            })\n",
    "        return product_categories\n",
    "    \n",
    "    items = json.loads(data)\n",
    "    for item in items:\n",
    "        product_categories = _parse_product_categories(item.get('productCategories', {}))\n",
    "        item['productCategories'] = product_categories\n",
    "\n",
    "    return items\n",
    "\n",
    "# Register functions as Spark UDFs \n",
    "udf_getData = UserDefinedFunction(convert_item, itemType)\n",
    "\n",
    "df = df.withColumn('Items', udf_getData(\"Items\"))"
   ]
  },
  {
   "cell_type": "code",
   "execution_count": null,
   "metadata": {},
   "outputs": [],
   "source": [
    "df.select(\"Items\").show(5)"
   ]
  },
  {
   "cell_type": "markdown",
   "metadata": {},
   "source": [
    "#### Casting de ItemMetadata"
   ]
  },
  {
   "cell_type": "code",
   "execution_count": null,
   "metadata": {},
   "outputs": [],
   "source": [
    "types = filter(lambda f: f.name == \"ItemMetadata\", structured_df.schema.fields)\n",
    "item_metadata_type = types[0].dataType\n",
    "\n",
    "def convert_item_metadata(data):\n",
    "    if data:\n",
    "        itemmetadata = json.loads(data)\n",
    "        len_items_itemmetadata = len(itemmetadata[\"items\"])\n",
    "        for i in range(len_items_itemmetadata):\n",
    "            if (\"assemblyOptions\" in itemmetadata[\"items\"][i]):\n",
    "                del itemmetadata[\"items\"][i][\"assemblyOptions\"]\n",
    "        return itemmetadata\n",
    "        \n",
    "# Register functions as Spark UDFs \n",
    "udf_convert_item_metadata = UserDefinedFunction(convert_item_metadata, item_metadata_type)\n",
    "\n",
    "df = df.withColumn(\"ItemMetadata\", udf_convert_item_metadata(\"ItemMetadata\"))"
   ]
  },
  {
   "cell_type": "code",
   "execution_count": null,
   "metadata": {},
   "outputs": [],
   "source": [
    "df.select(\"ItemMetadata\").show(5)"
   ]
  },
  {
   "cell_type": "markdown",
   "metadata": {},
   "source": [
    "#### Casting RateAndBenefits"
   ]
  },
  {
   "cell_type": "code",
   "execution_count": null,
   "metadata": {},
   "outputs": [],
   "source": [
    "types = filter(lambda f: f.name == \"RatesAndBenefitsData\", structured_df.schema.fields)\n",
    "rateandbenefits_type = types[0].dataType\n",
    "\n",
    "def convert_ratesandbenefits(data):\n",
    "    KEY_IDENTIFIERS = \"rateAndBenefitsIdentifiers\"\n",
    "    KEY_MATCH_PARAMS = \"matchedParameters\"\n",
    "    KEY_ADDINFO = \"additionalInfo\"\n",
    "    data = json.loads(data)\n",
    "    if data and KEY_IDENTIFIERS in data:\n",
    "        for i in range(len(data[KEY_IDENTIFIERS])):\n",
    "            if KEY_MATCH_PARAMS in data[KEY_IDENTIFIERS][i]:\n",
    "                del data[KEY_IDENTIFIERS][i][KEY_MATCH_PARAMS]\n",
    "            if KEY_ADDINFO in data[KEY_IDENTIFIERS][i]:\n",
    "                del data[KEY_IDENTIFIERS][i][KEY_ADDINFO]\n",
    "    return data\n",
    "        \n",
    "# Register functions as Spark UDFs \n",
    "udf_convert_ratesandbenefits = UserDefinedFunction(convert_ratesandbenefits, rateandbenefits_type)\n",
    "\n",
    "df = df.withColumn(\"RatesAndBenefitsData\", udf_convert_ratesandbenefits(\"RatesAndBenefitsData\"))"
   ]
  },
  {
   "cell_type": "code",
   "execution_count": null,
   "metadata": {},
   "outputs": [],
   "source": [
    "df.select(\"RatesAndBenefitsData\").show(1, False)"
   ]
  },
  {
   "cell_type": "code",
   "execution_count": null,
   "metadata": {},
   "outputs": [],
   "source": [
    "df.select(\"RatesAndBenefitsData\").collect()"
   ]
  },
  {
   "cell_type": "markdown",
   "metadata": {},
   "source": [
    "#### Casting CustomData"
   ]
  },
  {
   "cell_type": "code",
   "execution_count": null,
   "metadata": {},
   "outputs": [],
   "source": [
    "from pyspark.sql.utils import AnalysisException\n",
    "try:\n",
    "    df.where(\"CustomData is not null\").select(\"CustomData\").count()\n",
    "except AnalysisException:\n",
    "    # there is no col CustomData in data\n",
    "    pass"
   ]
  },
  {
   "cell_type": "code",
   "execution_count": null,
   "metadata": {},
   "outputs": [],
   "source": [
    "types = filter(lambda f: f.name == \"CustomData\", structured_df.schema.fields)\n",
    "customdata_type = types[0].dataType\n",
    "\n",
    "def convert_customdata(data):\n",
    "    KEY_CUSTOMAPP = \"customApps\"\n",
    "    KEY_FIELDS = \"fields\"\n",
    "    KEY_EXTRA_CONTENT = \"cart-extra-context\"\n",
    "    \n",
    "    customdata = data and json.loads(data)\n",
    "    if customdata and KEY_CUSTOMAPP in customdata:\n",
    "        for i in range(len(customdata[KEY_CUSTOMAPP])):\n",
    "            if KEY_FIELDS in customdata[KEY_CUSTOMAPP][i] and\\\n",
    "                KEY_EXTRA_CONTENT in customdata[KEY_CUSTOMAPP][i][KEY_FIELDS]:\n",
    "                    del customdata[KEY_CUSTOMAPP][i][KEY_FIELDS][KEY_EXTRA_CONTENT]\n",
    "    return customdata\n",
    "        \n",
    "# Register functions as Spark UDFs \n",
    "udf_convert_customdata = UserDefinedFunction(convert_customdata, customdata_type)\n",
    "\n",
    "df = df.withColumn(\"CustomData\", udf_convert_customdata(\"CustomData\"))"
   ]
  },
  {
   "cell_type": "code",
   "execution_count": null,
   "metadata": {},
   "outputs": [],
   "source": [
    "df.select(\"CustomData\").show(5)"
   ]
  },
  {
   "cell_type": "markdown",
   "metadata": {},
   "source": [
    "#### Casting Attachment"
   ]
  },
  {
   "cell_type": "code",
   "execution_count": 6,
   "metadata": {},
   "outputs": [],
   "source": [
    "ATTACHMENT = \"attachment\"\n",
    "\n",
    "def remove_attachments(dic):    \n",
    "    dic_copy = dic.copy()\n",
    "    for key in dic_copy:\n",
    "        if(ATTACHMENT in key.lower()):\n",
    "            del dic[key]\n",
    "        elif(type(dic_copy[key]) == dict):\n",
    "            remove_attachments(dic[key])\n",
    "        elif(type(dic_copy[key]) == list):\n",
    "            for item in dic_copy[key]:\n",
    "                if(type(item) == dict):\n",
    "                    remove_attachments(item)\n",
    "    return dic\n",
    "    \n",
    "def get_transform_data(field):\n",
    "    if field is not str: return\n",
    "    structuted_field = field and json.loads(field)\n",
    "    if type(structuted_field) is dict:\n",
    "        structuted_field = remove_attachments(structuted_field)\n",
    "    return structuted_field\n",
    "    \n",
    "def transform_struct_df(df_no_structured, fields):\n",
    "    for field in fields:\n",
    "        field_type = field.dataType\n",
    "        field_name = field.name\n",
    "\n",
    "        if ATTACHMENT in field_name.lower():\n",
    "            df_no_structured = df_no_structured.drop(field_name)\n",
    "        elif field_type != StringType():\n",
    "            udf_get_transform_data = UserDefinedFunction(lambda d: get_transform_data(d), field_type)\n",
    "            df_no_structured = df_no_structured.withColumn(field_name, udf_get_transform_data(field_name))\n",
    "    \n",
    "    return df_no_structured"
   ]
  },
  {
   "cell_type": "code",
   "execution_count": 7,
   "metadata": {},
   "outputs": [],
   "source": [
    "df = transform_struct_df(df, df.schema.fields)"
   ]
  },
  {
   "cell_type": "code",
   "execution_count": 8,
   "metadata": {},
   "outputs": [
    {
     "name": "stdout",
     "output_type": "stream",
     "text": [
      "+-----------+------------------+----------+----------------------------------------------------------------------+------------------------------------------------------------------------------------------------------------------------------------------------------------------------------------------------------------------------------------------------------------------------------------------------------------+----------------------------+-------------------+---------------+-----------------------------------------------+----------------+--------+---------------+-----------------+--------------------------------+-----------+------------------+---------------------------------------------------------------------------------------------------------------------------------------------------------------------------------------------------------------------------------------------------------------------------------------------------------------------------------------------------------------------------------------------------------------------------------------------------------------------------------------------------------------------------------------------------------------------------------------------------------------------------------------------------------------------------------------------------------------------------------------------------------------------------------------------------------------------------------------------------------------------------------------------------------------------------------------------------------------------------------------------------------------------------------------------------------------------------------------------------------------------------------------------------------------------------------------------------------------------------------------------------------------------------------------------------------------------------------------------------------------------------------------------------------------------------------------------------------+----------------------------+-----------------+-------------------------+------------------+------------------------------+-----------------------+----------------------------------------------------------------------------------------------------------------------------------------------+---------------------------+--------------------------+-------------+--------------------------------+------------+----------------------------------------------------------------------------------------------------------------------------------------------------------------------------------------------------------------------------------------------------------------------------------------------------------------------------------------------------------------------------------------------------------------------------------------------------------+----------------------------------------------------------------------------------------------------------------------------------------------------------------------------------------------------------------------------------------------------------------------------------------------------------------------------------------------------------------------------------------------------------------------------------------------------------------------------------------------------------------------------------------------------------------------------------------------------------------------------------------------------------------------------------------+------------+------------------------------------+------------------+---------------------------------------------------------------------------------------------------------------------------------------------------------------------------------------------------------------------------------------------+--------+--------------------------------------------------------------------------------------------------------------------------------------------------------------------------------------------------------------------------------------------------------------------------------------------------------------------------------------------------------------------------------------------------------------------------------------------------------------------------------------------------------------------------------------------------------------------------------------------------------------------------------------------------------------------------------------------------------------------------------------------------------------------------------------------------------------------------------------------------------------------------------------------------------------------------------------------------------------------------------------------------------------------------------------------------------------------------------------------------------------------------------------------------------------------------------------------------------------------------------------------------------------------------------------------------------------------------------------------------------------------------------------------------------------------------------------------------------------------------------------------------------------------------------------------------------------------------------------------------------------------------+------+-----------------+-------------------------------------------------------------------------------------------------------------------------------------------------------------------------------------------------------------------------------------------------------------------------------------------------------------------------------------------------+----------------------------------------------------------------------------------------------------------------------------------------------------------------------------------------------------------------------+----------------------------+--------------------+--------------------------------+\n",
      "|AffiliateId|CallCenterOperator|ChangeData|ClientPreferencesData                                                 |ClientProfileData                                                                                                                                                                                                                                                                                           |CreationDate                |CreationEnvironment|CreationVersion|FollowUpEmail                                  |GiftRegistryData|HostName|Id             |IgnoreProfileData|InstanceId                      |IsCompleted|IsToSavePersonData|Items                                                                                                                                                                                                                                                                                                                                                                                                                                                                                                                                                                                                                                                                                                                                                                                                                                                                                                                                                                                                                                                                                                                                                                                                                                                                                                                                                                                                                                                    |LastChange                  |LastChangeVersion|MarketPlaceCancellationId|MarketPlaceOrderId|MarketPlaceOrderId_AffiliateId|MarketPlacePaymentValue|MarketingData                                                                                                                                 |MarketplaceServicesEndPoint|MerchantPaymentReferenceId|OpenTextField|OrderFormId                     |OrderGroup  |RatesAndBenefitsData                                                                                                                                                                                                                                                                                                                                                                                                                                      |ReceiptData                                                                                                                                                                                                                                                                                                                                                                                                                                                                                                                                                                                                                                                                             |SalesChannel|SellerCancellationId                |SellerOrderId     |Sellers                                                                                                                                                                                                                                      |Sequence|ShippingData                                                                                                                                                                                                                                                                                                                                                                                                                                                                                                                                                                                                                                                                                                                                                                                                                                                                                                                                                                                                                                                                                                                                                                                                                                                                                                                                                                                                                                                                                                                                                                                                              |Status|StatusDescription|StorePreferences                                                                                                                                                                                                                                                                                                                                 |Totalizations                                                                                                                                                                                                         |TransactionsPendingOperation|VirtualTotalizations|WorkflowInstanceId              |\n",
      "+-----------+------------------+----------+----------------------------------------------------------------------+------------------------------------------------------------------------------------------------------------------------------------------------------------------------------------------------------------------------------------------------------------------------------------------------------------+----------------------------+-------------------+---------------+-----------------------------------------------+----------------+--------+---------------+-----------------+--------------------------------+-----------+------------------+---------------------------------------------------------------------------------------------------------------------------------------------------------------------------------------------------------------------------------------------------------------------------------------------------------------------------------------------------------------------------------------------------------------------------------------------------------------------------------------------------------------------------------------------------------------------------------------------------------------------------------------------------------------------------------------------------------------------------------------------------------------------------------------------------------------------------------------------------------------------------------------------------------------------------------------------------------------------------------------------------------------------------------------------------------------------------------------------------------------------------------------------------------------------------------------------------------------------------------------------------------------------------------------------------------------------------------------------------------------------------------------------------------------------------------------------------------+----------------------------+-----------------+-------------------------+------------------+------------------------------+-----------------------+----------------------------------------------------------------------------------------------------------------------------------------------+---------------------------+--------------------------+-------------+--------------------------------+------------+----------------------------------------------------------------------------------------------------------------------------------------------------------------------------------------------------------------------------------------------------------------------------------------------------------------------------------------------------------------------------------------------------------------------------------------------------------+----------------------------------------------------------------------------------------------------------------------------------------------------------------------------------------------------------------------------------------------------------------------------------------------------------------------------------------------------------------------------------------------------------------------------------------------------------------------------------------------------------------------------------------------------------------------------------------------------------------------------------------------------------------------------------------+------------+------------------------------------+------------------+---------------------------------------------------------------------------------------------------------------------------------------------------------------------------------------------------------------------------------------------+--------+--------------------------------------------------------------------------------------------------------------------------------------------------------------------------------------------------------------------------------------------------------------------------------------------------------------------------------------------------------------------------------------------------------------------------------------------------------------------------------------------------------------------------------------------------------------------------------------------------------------------------------------------------------------------------------------------------------------------------------------------------------------------------------------------------------------------------------------------------------------------------------------------------------------------------------------------------------------------------------------------------------------------------------------------------------------------------------------------------------------------------------------------------------------------------------------------------------------------------------------------------------------------------------------------------------------------------------------------------------------------------------------------------------------------------------------------------------------------------------------------------------------------------------------------------------------------------------------------------------------------------+------+-----------------+-------------------------------------------------------------------------------------------------------------------------------------------------------------------------------------------------------------------------------------------------------------------------------------------------------------------------------------------------+----------------------------------------------------------------------------------------------------------------------------------------------------------------------------------------------------------------------+----------------------------+--------------------+--------------------------------+\n",
      "|null       |null              |null      |{\"locale\":\"pt-BR\",\"optinNewsLetter\":true,\"id\":\"clientPreferencesData\"}|{\"id\":\"clientProfileData\",\"email\":\"allan.lemos.sp@gmail.com\",\"firstName\":\"Allan\",\"lastName\":\"Lemos\",\"document\":\"32647257892\",\"phone\":\"+5511987542219\",\"corporateName\":null,\"tradeName\":null,\"corporateDocument\":null,\"stateInscription\":null,\"corporatePhone\":null,\"isCorporate\":false,\"documentType\":\"cpf\"}|2015-07-17T17:57:42.1911258Z|STABLE             |1.101.78.1106  |4851ca43f44847b9a70f60f408c11cbf@ct.vtex.com.br|null            |lekssa  |547463458382-01|null             |00F582D386DA4F35B7F83ED8DB744B9E|null       |null              |[{\"uniqueId\":\"424DD0B27DEF46AA84AD8FC70D8EBEF8\",\"id\":\"101\",\"sellerSku\":\"101\",\"productId\":\"101\",\"lockId\":null,\"availability\":\"available\",\"name\":\"JOGO DE PANELAS CERÂMICA LEKSSA KS3 4 PEÇAS\",\"skuName\":\"JOGO DE PANELAS CERÂMICA LEKSSA KS3 4 PEÇAS\",\"merchantName\":null,\"additionalInfo\":{\"brandName\":\"Lekssa\",\"brandId\":\"301\",\"dimension\":{\"cubicweight\":0.0000,\"height\":30.0000,\"length\":25.0000,\"weight\":4000.0000,\"width\":20.0000},\"categoriesIds\":\"/101/\",\"productClusterId\":\"136,138\",\"commercialConditionId\":\"1\",\"offeringInfo\":null,\"offeringType\":null,\"offeringTypeId\":null},\"isGift\":false,\"isMarketPlaceGift\":false,\"hasStockBalanceControl\":true,\"hasShippingSimulation\":true,\"price\":39995,\"priceValidUntil\":null,\"listPrice\":39995,\"sellerPrice\":39995,\"manualPrice\":null,\"priceTags\":[],\"virtualPriceTags\":[],\"refId\":\"101\",\"quantity\":1,\"seller\":\"1\",\"modalType\":null,\"ean\":\"1201506101119\",\"rewardValue\":0,\"productCategoryIds\":\"/101/\",\"productCategories\":{\"101\":\"LINHA KS3\",\"701\":\"JOGOS DE PANELAS\",\"501\":\"PRODUTOS\"},\"imageUrl\":\"/arquivos/ids/155508-80-80/KS3.jpg\",\"detailUrl\":\"/jogo-de-panelas-ceramica-lekssa-ks1-4-pecas/p\",\"components\":[],\"preSaleDate\":null,\"bundleItems\":[],\"attachments\":[],\"itemAttachment\":{\"name\":null,\"content\":{}},\"attachmentOfferings\":[],\"offerings\":[],\"commission\":0,\"freightCommission\":0,\"measurementUnit\":\"un\",\"unitMultiplier\":1.0000,\"sellingPrice\":39995,\"virtualSellingPrice\":39995}]|2015-08-16T17:57:56.4760435Z|1.107.12.1156    |null                     |null              |null                          |null                   |{\"id\":\"marketingData\",\"utmSource\":\"trustvox\",\"utmMedium\":\"email\",\"utmCampaign\":\"\",\"utmiPage\":\"\",\"utmiPart\":\"\",\"utmiCampaign\":\"\",\"coupon\":null}|null                       |null                      |null         |55ab6edacfaa4a01af784f7240eb0e0e|547463458382|{\"id\":\"ratesAndBenefitsData\",\"teasers\":[{\"featured\":true,\"id\":\"200cb3e4-91df-45ec-8133-ecbbed07ed69\",\"name\":\"Compre Junto (Faca)\",\"conditions\":{\"parameters\":[{\"name\":\"SkuIdsList1\",\"value\":\"101\"},{\"name\":\"SkuIdsList2\",\"value\":\"701\"}],\"minimumQuantity\":1},\"effects\":{\"parameters\":[{\"name\":\"PercentualDiscountSkusList1\",\"value\":\"10\"},{\"name\":\"PercentualDiscountSkusList2\",\"value\":\"20\"}]},\"teaserType\":\"Catalog\"}],\"rateAndBenefitsIdentifiers\":[]}|{\"id\":\"receiptData\",\"receiptCollection\":[{\"instanceId\":\"00F582D386DA4F35B7F83ED8DB744B9E\",\"orderId\":\"547463458382-01\",\"receiptType\":\"cancelPayment\",\"date\":\"2015-08-16T17:57:45.5206091Z\",\"receipt\":\"7F20B3B7B3E341E1B8370873784EBCEC\",\"source\":\"received\",\"invoiceNumber\":null,\"transactionId\":\"C064DE2488C345B6AF277A3F2CE2D9FF\",\"merchantName\":\"LEKSSA\",\"value\":41176},{\"instanceId\":\"00F582D386DA4F35B7F83ED8DB744B9E\",\"orderId\":\"547463458382-01\",\"receiptType\":\"marketPlaceCancellation\",\"date\":\"2015-08-16T17:57:56.2108513Z\",\"receipt\":\"e4cef754-a8e5-414f-bd05-45a493de5016\",\"source\":\"delivered\",\"invoiceNumber\":null,\"transactionId\":null,\"merchantName\":null,\"value\":null}]}|1           |c4a1bc6f-28a8-45e8-ae09-b0093462abcd|00-547463458382-01|[{\"Id\":\"1\",\"Name\":\"Lekssa\",\"Logo\":\"http://portal.vtexcommercestable.com.br/arquivos/logo.jpg\",\"AllowHybridPayments\":false,\"fulfillmentEndpoint\":\"http://fulfillment.vtexcommerce.com.br/api/fulfillment?sc=1&an=lekssa\",\"merchantName\":null}]|null    |{\"id\":\"shippingData\",\"address\":{\"addressType\":\"residential\",\"receiverName\":\"Allan Lemos\",\"addressId\":\"-1433859668436\",\"postalCode\":\"05778-140\",\"city\":\"São Paulo\",\"state\":\"SP\",\"country\":\"BRA\",\"street\":\"Rua Dario Mecatti\",\"number\":\"10A\",\"neighborhood\":\"Parque Arariba\",\"complement\":\"casa2\",\"reference\":null,\"geoCoordinates\":[]},\"availableAddresses\":[],\"logisticsInfo\":[{\"itemIndex\":0,\"slas\":[{\"id\":\"ESEDEX\",\"name\":\"ESEDEX\",\"deliveryIds\":[{\"courierId\":\"ESEDEX\",\"warehouseId\":\"1_1\",\"dockId\":\"1\",\"courierName\":\"Correios e-sedex\",\"quantity\":1,\"carrierSchedules\":[]}],\"shippingEstimate\":\"3bd\",\"originalShippingEstimate\":null,\"shippingEstimateDate\":null,\"lockTTL\":\"10d\",\"deliveryCompany\":null,\"availableDeliveryWindows\":[],\"deliveryWindow\":null,\"price\":1181,\"listPrice\":1181},{\"id\":\"PAC\",\"name\":\"PAC\",\"deliveryIds\":[{\"courierId\":\"PAC\",\"warehouseId\":\"1_1\",\"dockId\":\"1\",\"courierName\":\"Correios Pac\",\"quantity\":1,\"carrierSchedules\":[]}],\"shippingEstimate\":\"5bd\",\"originalShippingEstimate\":null,\"shippingEstimateDate\":null,\"lockTTL\":\"10d\",\"deliveryCompany\":null,\"availableDeliveryWindows\":[],\"deliveryWindow\":null,\"price\":1202,\"listPrice\":1202},{\"id\":\"SEDEX\",\"name\":\"SEDEX\",\"deliveryIds\":[{\"courierId\":\"SEDEX\",\"warehouseId\":\"1_1\",\"dockId\":\"1\",\"courierName\":\"Correios Sedex\",\"quantity\":1,\"carrierSchedules\":[]}],\"shippingEstimate\":\"3bd\",\"originalShippingEstimate\":null,\"shippingEstimateDate\":null,\"lockTTL\":\"10d\",\"deliveryCompany\":null,\"availableDeliveryWindows\":[],\"deliveryWindow\":null,\"price\":1826,\"listPrice\":1826}],\"selectedSla\":\"ESEDEX\",\"shipsTo\":[],\"stockBalance\":3}]}|null  |null             |{\"countryCode\":\"BRA\",\"templateOptions\":{\"toogleCorporate\":false},\"timeZone\":\"E. South America Standard Time\",\"currencyCode\":\"BRL\",\"currencyLocale\":1046,\"currencySymbol\":\"R$\",\"currencyFormatInfo\":{\"currencyDecimalDigits\":2,\"currencyDecimalSeparator\":\",\",\"currencyGroupSeparator\":\".\",\"currencyGroupSize\":3,\"startsWithCurrencySymbol\":true}}|[{\"id\":\"Items\",\"name\":\"Total dos Itens\",\"value\":39995},{\"id\":\"Discounts\",\"name\":\"Total dos Descontos\",\"value\":0},{\"id\":\"Shipping\",\"name\":\"Total do Frete\",\"value\":1181},{\"id\":\"Tax\",\"name\":\"Total da Taxa\",\"value\":0}]|[]                          |[]                  |776066300ABE469EBF77BBD965CC5901|\n",
      "+-----------+------------------+----------+----------------------------------------------------------------------+------------------------------------------------------------------------------------------------------------------------------------------------------------------------------------------------------------------------------------------------------------------------------------------------------------+----------------------------+-------------------+---------------+-----------------------------------------------+----------------+--------+---------------+-----------------+--------------------------------+-----------+------------------+---------------------------------------------------------------------------------------------------------------------------------------------------------------------------------------------------------------------------------------------------------------------------------------------------------------------------------------------------------------------------------------------------------------------------------------------------------------------------------------------------------------------------------------------------------------------------------------------------------------------------------------------------------------------------------------------------------------------------------------------------------------------------------------------------------------------------------------------------------------------------------------------------------------------------------------------------------------------------------------------------------------------------------------------------------------------------------------------------------------------------------------------------------------------------------------------------------------------------------------------------------------------------------------------------------------------------------------------------------------------------------------------------------------------------------------------------------+----------------------------+-----------------+-------------------------+------------------+------------------------------+-----------------------+----------------------------------------------------------------------------------------------------------------------------------------------+---------------------------+--------------------------+-------------+--------------------------------+------------+----------------------------------------------------------------------------------------------------------------------------------------------------------------------------------------------------------------------------------------------------------------------------------------------------------------------------------------------------------------------------------------------------------------------------------------------------------+----------------------------------------------------------------------------------------------------------------------------------------------------------------------------------------------------------------------------------------------------------------------------------------------------------------------------------------------------------------------------------------------------------------------------------------------------------------------------------------------------------------------------------------------------------------------------------------------------------------------------------------------------------------------------------------+------------+------------------------------------+------------------+---------------------------------------------------------------------------------------------------------------------------------------------------------------------------------------------------------------------------------------------+--------+--------------------------------------------------------------------------------------------------------------------------------------------------------------------------------------------------------------------------------------------------------------------------------------------------------------------------------------------------------------------------------------------------------------------------------------------------------------------------------------------------------------------------------------------------------------------------------------------------------------------------------------------------------------------------------------------------------------------------------------------------------------------------------------------------------------------------------------------------------------------------------------------------------------------------------------------------------------------------------------------------------------------------------------------------------------------------------------------------------------------------------------------------------------------------------------------------------------------------------------------------------------------------------------------------------------------------------------------------------------------------------------------------------------------------------------------------------------------------------------------------------------------------------------------------------------------------------------------------------------------------+------+-----------------+-------------------------------------------------------------------------------------------------------------------------------------------------------------------------------------------------------------------------------------------------------------------------------------------------------------------------------------------------+----------------------------------------------------------------------------------------------------------------------------------------------------------------------------------------------------------------------+----------------------------+--------------------+--------------------------------+\n",
      "\n"
     ]
    }
   ],
   "source": [
    "df.show(1, False)"
   ]
  },
  {
   "cell_type": "code",
   "execution_count": 10,
   "metadata": {},
   "outputs": [
    {
     "data": {
      "text/plain": [
       "[Row(AffiliateId=None, CallCenterOperator=None, ChangeData=None, ClientPreferencesData=u'{\"locale\":\"pt-BR\",\"optinNewsLetter\":true,\"id\":\"clientPreferencesData\"}', ClientProfileData=u'{\"id\":\"clientProfileData\",\"email\":\"allan.lemos.sp@gmail.com\",\"firstName\":\"Allan\",\"lastName\":\"Lemos\",\"document\":\"32647257892\",\"phone\":\"+5511987542219\",\"corporateName\":null,\"tradeName\":null,\"corporateDocument\":null,\"stateInscription\":null,\"corporatePhone\":null,\"isCorporate\":false,\"documentType\":\"cpf\"}', CreationDate=u'2015-07-17T17:57:42.1911258Z', CreationEnvironment=u'STABLE', CreationVersion=u'1.101.78.1106', FollowUpEmail=u'4851ca43f44847b9a70f60f408c11cbf@ct.vtex.com.br', GiftRegistryData=None, HostName=u'lekssa', Id=u'547463458382-01', IgnoreProfileData=None, InstanceId=u'00F582D386DA4F35B7F83ED8DB744B9E', IsCompleted=None, IsToSavePersonData=None, Items=u'[{\"uniqueId\":\"424DD0B27DEF46AA84AD8FC70D8EBEF8\",\"id\":\"101\",\"sellerSku\":\"101\",\"productId\":\"101\",\"lockId\":null,\"availability\":\"available\",\"name\":\"JOGO DE PANELAS CER\\xc2MICA LEKSSA KS3 4 PE\\xc7AS\",\"skuName\":\"JOGO DE PANELAS CER\\xc2MICA LEKSSA KS3 4 PE\\xc7AS\",\"merchantName\":null,\"additionalInfo\":{\"brandName\":\"Lekssa\",\"brandId\":\"301\",\"dimension\":{\"cubicweight\":0.0000,\"height\":30.0000,\"length\":25.0000,\"weight\":4000.0000,\"width\":20.0000},\"categoriesIds\":\"/101/\",\"productClusterId\":\"136,138\",\"commercialConditionId\":\"1\",\"offeringInfo\":null,\"offeringType\":null,\"offeringTypeId\":null},\"isGift\":false,\"isMarketPlaceGift\":false,\"hasStockBalanceControl\":true,\"hasShippingSimulation\":true,\"price\":39995,\"priceValidUntil\":null,\"listPrice\":39995,\"sellerPrice\":39995,\"manualPrice\":null,\"priceTags\":[],\"virtualPriceTags\":[],\"refId\":\"101\",\"quantity\":1,\"seller\":\"1\",\"modalType\":null,\"ean\":\"1201506101119\",\"rewardValue\":0,\"productCategoryIds\":\"/101/\",\"productCategories\":{\"101\":\"LINHA KS3\",\"701\":\"JOGOS DE PANELAS\",\"501\":\"PRODUTOS\"},\"imageUrl\":\"/arquivos/ids/155508-80-80/KS3.jpg\",\"detailUrl\":\"/jogo-de-panelas-ceramica-lekssa-ks1-4-pecas/p\",\"components\":[],\"preSaleDate\":null,\"bundleItems\":[],\"attachments\":[],\"itemAttachment\":{\"name\":null,\"content\":{}},\"attachmentOfferings\":[],\"offerings\":[],\"commission\":0,\"freightCommission\":0,\"measurementUnit\":\"un\",\"unitMultiplier\":1.0000,\"sellingPrice\":39995,\"virtualSellingPrice\":39995}]', LastChange=u'2015-08-16T17:57:56.4760435Z', LastChangeVersion=u'1.107.12.1156', MarketPlaceCancellationId=None, MarketPlaceOrderId=None, MarketPlaceOrderId_AffiliateId=None, MarketPlacePaymentValue=None, MarketingData=u'{\"id\":\"marketingData\",\"utmSource\":\"trustvox\",\"utmMedium\":\"email\",\"utmCampaign\":\"\",\"utmiPage\":\"\",\"utmiPart\":\"\",\"utmiCampaign\":\"\",\"coupon\":null}', MarketplaceServicesEndPoint=None, MerchantPaymentReferenceId=None, OpenTextField=None, OrderFormId=u'55ab6edacfaa4a01af784f7240eb0e0e', OrderGroup=u'547463458382', RatesAndBenefitsData=u'{\"id\":\"ratesAndBenefitsData\",\"teasers\":[{\"featured\":true,\"id\":\"200cb3e4-91df-45ec-8133-ecbbed07ed69\",\"name\":\"Compre Junto (Faca)\",\"conditions\":{\"parameters\":[{\"name\":\"SkuIdsList1\",\"value\":\"101\"},{\"name\":\"SkuIdsList2\",\"value\":\"701\"}],\"minimumQuantity\":1},\"effects\":{\"parameters\":[{\"name\":\"PercentualDiscountSkusList1\",\"value\":\"10\"},{\"name\":\"PercentualDiscountSkusList2\",\"value\":\"20\"}]},\"teaserType\":\"Catalog\"}],\"rateAndBenefitsIdentifiers\":[]}', ReceiptData=u'{\"id\":\"receiptData\",\"receiptCollection\":[{\"instanceId\":\"00F582D386DA4F35B7F83ED8DB744B9E\",\"orderId\":\"547463458382-01\",\"receiptType\":\"cancelPayment\",\"date\":\"2015-08-16T17:57:45.5206091Z\",\"receipt\":\"7F20B3B7B3E341E1B8370873784EBCEC\",\"source\":\"received\",\"invoiceNumber\":null,\"transactionId\":\"C064DE2488C345B6AF277A3F2CE2D9FF\",\"merchantName\":\"LEKSSA\",\"value\":41176},{\"instanceId\":\"00F582D386DA4F35B7F83ED8DB744B9E\",\"orderId\":\"547463458382-01\",\"receiptType\":\"marketPlaceCancellation\",\"date\":\"2015-08-16T17:57:56.2108513Z\",\"receipt\":\"e4cef754-a8e5-414f-bd05-45a493de5016\",\"source\":\"delivered\",\"invoiceNumber\":null,\"transactionId\":null,\"merchantName\":null,\"value\":null}]}', SalesChannel=u'1', SellerCancellationId=u'c4a1bc6f-28a8-45e8-ae09-b0093462abcd', SellerOrderId=u'00-547463458382-01', Sellers=u'[{\"Id\":\"1\",\"Name\":\"Lekssa\",\"Logo\":\"http://portal.vtexcommercestable.com.br/arquivos/logo.jpg\",\"AllowHybridPayments\":false,\"fulfillmentEndpoint\":\"http://fulfillment.vtexcommerce.com.br/api/fulfillment?sc=1&an=lekssa\",\"merchantName\":null}]', Sequence=None, ShippingData=u'{\"id\":\"shippingData\",\"address\":{\"addressType\":\"residential\",\"receiverName\":\"Allan Lemos\",\"addressId\":\"-1433859668436\",\"postalCode\":\"05778-140\",\"city\":\"S\\xe3o Paulo\",\"state\":\"SP\",\"country\":\"BRA\",\"street\":\"Rua Dario Mecatti\",\"number\":\"10A\",\"neighborhood\":\"Parque Arariba\",\"complement\":\"casa2\",\"reference\":null,\"geoCoordinates\":[]},\"availableAddresses\":[],\"logisticsInfo\":[{\"itemIndex\":0,\"slas\":[{\"id\":\"ESEDEX\",\"name\":\"ESEDEX\",\"deliveryIds\":[{\"courierId\":\"ESEDEX\",\"warehouseId\":\"1_1\",\"dockId\":\"1\",\"courierName\":\"Correios e-sedex\",\"quantity\":1,\"carrierSchedules\":[]}],\"shippingEstimate\":\"3bd\",\"originalShippingEstimate\":null,\"shippingEstimateDate\":null,\"lockTTL\":\"10d\",\"deliveryCompany\":null,\"availableDeliveryWindows\":[],\"deliveryWindow\":null,\"price\":1181,\"listPrice\":1181},{\"id\":\"PAC\",\"name\":\"PAC\",\"deliveryIds\":[{\"courierId\":\"PAC\",\"warehouseId\":\"1_1\",\"dockId\":\"1\",\"courierName\":\"Correios Pac\",\"quantity\":1,\"carrierSchedules\":[]}],\"shippingEstimate\":\"5bd\",\"originalShippingEstimate\":null,\"shippingEstimateDate\":null,\"lockTTL\":\"10d\",\"deliveryCompany\":null,\"availableDeliveryWindows\":[],\"deliveryWindow\":null,\"price\":1202,\"listPrice\":1202},{\"id\":\"SEDEX\",\"name\":\"SEDEX\",\"deliveryIds\":[{\"courierId\":\"SEDEX\",\"warehouseId\":\"1_1\",\"dockId\":\"1\",\"courierName\":\"Correios Sedex\",\"quantity\":1,\"carrierSchedules\":[]}],\"shippingEstimate\":\"3bd\",\"originalShippingEstimate\":null,\"shippingEstimateDate\":null,\"lockTTL\":\"10d\",\"deliveryCompany\":null,\"availableDeliveryWindows\":[],\"deliveryWindow\":null,\"price\":1826,\"listPrice\":1826}],\"selectedSla\":\"ESEDEX\",\"shipsTo\":[],\"stockBalance\":3}]}', Status=None, StatusDescription=None, StorePreferences=u'{\"countryCode\":\"BRA\",\"templateOptions\":{\"toogleCorporate\":false},\"timeZone\":\"E. South America Standard Time\",\"currencyCode\":\"BRL\",\"currencyLocale\":1046,\"currencySymbol\":\"R$\",\"currencyFormatInfo\":{\"currencyDecimalDigits\":2,\"currencyDecimalSeparator\":\",\",\"currencyGroupSeparator\":\".\",\"currencyGroupSize\":3,\"startsWithCurrencySymbol\":true}}', Totalizations=u'[{\"id\":\"Items\",\"name\":\"Total dos Itens\",\"value\":39995},{\"id\":\"Discounts\",\"name\":\"Total dos Descontos\",\"value\":0},{\"id\":\"Shipping\",\"name\":\"Total do Frete\",\"value\":1181},{\"id\":\"Tax\",\"name\":\"Total da Taxa\",\"value\":0}]', TransactionsPendingOperation=u'[]', VirtualTotalizations=u'[]', WorkflowInstanceId=u'776066300ABE469EBF77BBD965CC5901')]"
      ]
     },
     "execution_count": 10,
     "metadata": {},
     "output_type": "execute_result"
    }
   ],
   "source": [
    "df.collect()"
   ]
  },
  {
   "cell_type": "code",
   "execution_count": null,
   "metadata": {},
   "outputs": [],
   "source": []
  },
  {
   "cell_type": "markdown",
   "metadata": {},
   "source": [
    "#### Particionando dados e escrevendo"
   ]
  },
  {
   "cell_type": "code",
   "execution_count": null,
   "metadata": {},
   "outputs": [],
   "source": [
    "def getYear(lastChange, creationDate):\n",
    "    date = lastChange if lastChange is not None else creationDate\n",
    "    return date.split('T')[0].split('-')[0]\n",
    "\n",
    "def getMonth(lastChange, creationDate):\n",
    "    date = lastChange if lastChange is not None else creationDate\n",
    "    return date.split('T')[0].split('-')[1]\n",
    "\n",
    "def getDay(lastChange, creationDate):\n",
    "    date = lastChange if lastChange is not None else creationDate\n",
    "    return date.split('T')[0].split('-')[2]\n",
    "\n",
    "# Register functions as Spark UDFs \n",
    "udf_getYear = UserDefinedFunction(getYear, StringType())\n",
    "udf_getMonth = UserDefinedFunction(getMonth, StringType())\n",
    "udf_getDay = UserDefinedFunction(getDay, StringType())"
   ]
  },
  {
   "cell_type": "code",
   "execution_count": null,
   "metadata": {},
   "outputs": [],
   "source": [
    "# Create the Columns for the Partitions\n",
    "df = df.withColumn('YEAR', udf_getYear(df.LastChange, df.CreationDate))\n",
    "df = df.withColumn('MONTH', udf_getMonth(df.LastChange, df.CreationDate))\n",
    "df = df.withColumn('DAY', udf_getDay(df.LastChange, df.CreationDate))"
   ]
  },
  {
   "cell_type": "code",
   "execution_count": null,
   "metadata": {},
   "outputs": [],
   "source": [
    "# Save table to S3 using Parquet format and partitioning by defined columns\n",
    "df.write.partitionBy(['YEAR','MONTH','DAY','InstanceId'])\\\n",
    "    .mode('append')\\\n",
    "    .json('../../../../blablabla/')\n",
    "#     .parquet('s3://vtex.datalake/consumable_tables/')"
   ]
  }
 ],
 "metadata": {
  "kernelspec": {
   "display_name": "Python 2",
   "language": "python",
   "name": "python2"
  },
  "language_info": {
   "codemirror_mode": {
    "name": "ipython",
    "version": 2
   },
   "file_extension": ".py",
   "mimetype": "text/x-python",
   "name": "python",
   "nbconvert_exporter": "python",
   "pygments_lexer": "ipython2",
   "version": "2.7.16"
  }
 },
 "nbformat": 4,
 "nbformat_minor": 2
}
