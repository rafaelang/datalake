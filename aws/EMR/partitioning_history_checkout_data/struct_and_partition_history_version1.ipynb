{
 "cells": [
  {
   "cell_type": "code",
   "execution_count": 9,
   "metadata": {},
   "outputs": [],
   "source": [
    "# conding: utf-8\n",
    "\n",
    "from pyspark.sql.functions import UserDefinedFunction\n",
    "from pyspark.sql.types import *"
   ]
  },
  {
   "cell_type": "code",
   "execution_count": 10,
   "metadata": {},
   "outputs": [],
   "source": [
    "\"\"\"\n",
    "    Este trecho de código é necessário apenas quando o notebook é executado em ambiente local\n",
    "\"\"\"\n",
    "\n",
    "from pyspark.context import SparkContext\n",
    "from pyspark.sql.session import SparkSession\n",
    "try:\n",
    "    sc = SparkContext('local')\n",
    "    spark = SparkSession(sc)\n",
    "except ValueError:\n",
    "    pass  # a spark context is already created"
   ]
  },
  {
   "cell_type": "markdown",
   "metadata": {},
   "source": [
    "#### Recuperando schema interface"
   ]
  },
  {
   "cell_type": "code",
   "execution_count": 12,
   "metadata": {},
   "outputs": [],
   "source": [
    "structured_jsons_path = 's3://vtex.datale/structured_json/{*}CheckoutOrder/*/id/*'\n",
    "structured_df = spark.read.json(structured_jsons_path)\n",
    "\n",
    "schema = structured_df.schema"
   ]
  },
  {
   "cell_type": "markdown",
   "metadata": {},
   "source": [
    "#### Usando o schema para, ao ler dados históricos, convertê-los já para a estrutura ideal"
   ]
  },
  {
   "cell_type": "code",
   "execution_count": 13,
   "metadata": {},
   "outputs": [],
   "source": [
    "history_datapath = 's3://vtex-analytics-import/vtex-checkout-versioned/{*}CheckoutOrder/*/id/*'\n",
    "df = spark.read.json(history_datapath, schema=schema)"
   ]
  },
  {
   "cell_type": "markdown",
   "metadata": {},
   "source": [
    "#### Particionando dados e escrevendo"
   ]
  },
  {
   "cell_type": "code",
   "execution_count": 14,
   "metadata": {},
   "outputs": [],
   "source": [
    "def getYear(var):\n",
    "    return var.split('T')[0].split('-')[0]\n",
    "\n",
    "def getMonth(var):\n",
    "    return var.split('T')[0].split('-')[1]\n",
    "\n",
    "def getDay(var):\n",
    "    return var.split('T')[0].split('-')[2]\n",
    "\n",
    "# Register functions as Spark UDFs \n",
    "udf_getYear = UserDefinedFunction(getYear, StringType())\n",
    "udf_getMonth = UserDefinedFunction(getMonth, StringType())\n",
    "udf_getDay = UserDefinedFunction(getDay, StringType())"
   ]
  },
  {
   "cell_type": "code",
   "execution_count": 23,
   "metadata": {},
   "outputs": [],
   "source": [
    "# Create the Columns for the Partitions\n",
    "df = df.withColumn('YEAR', udf_getYear(df.LastChange))\n",
    "df = df.withColumn('MONTH', udf_getMonth(df.LastChange))\n",
    "df = df.withColumn('DAY', udf_getDay(df.LastChange))\n",
    "\n",
    "# TODO: LastChange eh um campo nullable. Isso pode gerar problemas na hora de executar\n",
    "#         as funções auxiliares anteriores"
   ]
  },
  {
   "cell_type": "code",
   "execution_count": null,
   "metadata": {},
   "outputs": [],
   "source": [
    "# Save table to S3 using Parquet format and partitioning by defined columns\n",
    "df.write.partitionBy(['YEAR','MONTH','DAY','InstanceId'])\\\n",
    "    .mode('append')\\\n",
    "    .parquet('s3://vtex.datalake/consumable_tables/')"
   ]
  }
 ],
 "metadata": {
  "kernelspec": {
   "display_name": "Python 2",
   "language": "python",
   "name": "python2"
  },
  "language_info": {
   "codemirror_mode": {
    "name": "ipython",
    "version": 2
   },
   "file_extension": ".py",
   "mimetype": "text/x-python",
   "name": "python",
   "nbconvert_exporter": "python",
   "pygments_lexer": "ipython2",
   "version": "2.7.16"
  }
 },
 "nbformat": 4,
 "nbformat_minor": 2
}
