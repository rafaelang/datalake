{
 "cells": [
  {
   "cell_type": "code",
   "execution_count": 1,
   "metadata": {},
   "outputs": [
    {
     "name": "stdout",
     "output_type": "stream",
     "text": [
      "Pretty printing has been turned OFF\n"
     ]
    }
   ],
   "source": [
    "%pprint\n",
    "\n",
    "import boto3\n",
    "import base64\n",
    "from botocore.exceptions import ClientError\n",
    "\n",
    "from datetime import datetime"
   ]
  },
  {
   "cell_type": "code",
   "execution_count": null,
   "metadata": {},
   "outputs": [],
   "source": [
    "rds_client = boto3.client('rds-data')"
   ]
  },
  {
   "cell_type": "code",
   "execution_count": null,
   "metadata": {},
   "outputs": [],
   "source": [
    "database_name = \"data_mart_brand\"\n",
    "db_cluster_arn = \"arn:aws:rds:us-east-2:282989224251:cluster:brand-test-2-serverless\"\n",
    "db_credentials_secrets_store_arn = \"\""
   ]
  },
  {
   "cell_type": "markdown",
   "metadata": {},
   "source": [
    "---"
   ]
  },
  {
   "cell_type": "markdown",
   "metadata": {},
   "source": [
    "### Funções auxiliares para executar comandos"
   ]
  },
  {
   "cell_type": "code",
   "execution_count": null,
   "metadata": {},
   "outputs": [],
   "source": [
    "def execute_statement(sql, sql_parameters=[]):\n",
    "    response = rds_client.execute_statement(\n",
    "        secretArn=db_credentials_secrets_store_arn,\n",
    "        database=database_name,\n",
    "        resourceArn=db_cluster_arn,\n",
    "        sql=sql,\n",
    "        parameters=sql_parameters\n",
    "    )\n",
    "    return response"
   ]
  },
  {
   "cell_type": "code",
   "execution_count": null,
   "metadata": {},
   "outputs": [],
   "source": [
    "def batch_execute_statement(sql, sql_parameter_sets):\n",
    "    response = rds_client.batch_execute_statement(\n",
    "        secretArn=db_credentials_secrets_store_arn,\n",
    "        database=database_name,\n",
    "        resourceArn=db_cluster_arn,\n",
    "        sql=sql,\n",
    "        parameterSets=sql_parameter_sets\n",
    "    )\n",
    "    return response"
   ]
  },
  {
   "cell_type": "markdown",
   "metadata": {},
   "source": [
    "---"
   ]
  },
  {
   "cell_type": "markdown",
   "metadata": {},
   "source": [
    "### Criando tabela"
   ]
  },
  {
   "cell_type": "code",
   "execution_count": null,
   "metadata": {},
   "outputs": [],
   "source": [
    "sql = \"\"\"\n",
    "        CREATE TABLE IF NOT EXISTS orders (\n",
    "            id VARCHAR(50) NOT NULL,\n",
    "            order_group VARCHAR(50) NOT NULL,\n",
    "            subaccount VARCHAR(50) NOT NULL,\n",
    "            seller_order_id VARCHAR(50),\n",
    "            origin_code INTEGER,\n",
    "            number_itens INTEGER,\n",
    "            total_value DOUBLE,\n",
    "            creation_date DATETIME,\n",
    "            pickup_itens INTEGER,\n",
    "            country_code VARCHAR(3),\n",
    "            currency_code VARCHAR(3),\n",
    "            is_completed BOOLEAN,\n",
    "            status VARCHAR(50),\n",
    "            PRIMARY KEY (id, order_group, subaccount, seller_order_id)\n",
    "        )\n",
    "    \"\"\"\n",
    "\n",
    "response = execute_statement(sql)\n",
    "\n",
    "print(response)"
   ]
  },
  {
   "cell_type": "markdown",
   "metadata": {},
   "source": [
    "### Inserindo dados"
   ]
  },
  {
   "cell_type": "markdown",
   "metadata": {},
   "source": [
    "#### Funções auxiliares"
   ]
  },
  {
   "cell_type": "code",
   "execution_count": null,
   "metadata": {},
   "outputs": [],
   "source": [
    "sql = \"\"\"\n",
    "        INSERT INTO orders \n",
    "            (id, order_group, subaccount, seller_order_id, \n",
    "                origin_code, number_itens, total_value, \n",
    "                creation_date, pickup_itens, country_code, \n",
    "                currency_code, is_completed, status) \n",
    "        VALUES \n",
    "            (:id, :order_group, :subaccount, :seller_order_id, \n",
    "                :origin_code, :number_itens, :total_value, \n",
    "                :creation_date, :pickup_itens, :country_code, \n",
    "                :currency_code, :is_completed, :status) \n",
    "        ON DUPLICATE KEY UPDATE \n",
    "            is_completed = :is_completed,\n",
    "            status = :status, \n",
    "            number_itens = :number_itens,\n",
    "            total_value = :total_value,\n",
    "            pickup_itens = :pickup_itens\n",
    "    \"\"\"\n",
    "\n",
    "def get_sql_params(**kwargs):\n",
    "    mid = kwargs['id']\n",
    "    order_group = kwargs['order_group']\n",
    "    subaccount = kwargs['subaccount']\n",
    "    seller_order_id = kwargs['seller_order_id']\n",
    "    origin_code = kwargs['origin_code']\n",
    "    number_itens = kwargs['number_itens']\n",
    "    total_value = kwargs['total_value']\n",
    "    creation_date = kwargs['creation_date']\n",
    "    pickup_itens = kwargs['pickup_itens']\n",
    "    seller_order_id = kwargs['seller_order_id']\n",
    "    country_code = kwargs['country_code']\n",
    "    currency_code = kwargs['currency_code']\n",
    "    is_completed = kwargs['is_completed']\n",
    "    status = kwargs['status']\n",
    "    \n",
    "    return [\n",
    "        {\n",
    "            'name':'id', \n",
    "            'value':{'stringValue': f'{mid}'}\n",
    "        },\n",
    "        {\n",
    "            'name':'order_group', \n",
    "            'value':{'stringValue': f'{order_group}'}\n",
    "        },\n",
    "        {\n",
    "            'name':'subaccount', \n",
    "            'value':{'stringValue': f'{subaccount}'}\n",
    "        },\n",
    "        {\n",
    "            'name':'seller_order_id', \n",
    "            'value':{'stringValue': f'{seller_order_id}'}\n",
    "        },\n",
    "        {\n",
    "            'name':'origin_code', \n",
    "            'value':{'stringValue': f'{origin_code}'}\n",
    "        },\n",
    "        {\n",
    "            'name':'number_itens', \n",
    "            'value':{'stringValue': f'{number_itens}'}\n",
    "        },\n",
    "        {\n",
    "            'name':'total_value', \n",
    "            'value':{'stringValue': f'{total_value}'}\n",
    "        },\n",
    "        {\n",
    "            'name':'creation_date', \n",
    "            'value':{'stringValue': f'{creation_date}'}\n",
    "        },\n",
    "        {\n",
    "            'name':'pickup_itens', \n",
    "            'value':{'stringValue': f'{pickup_itens}'}\n",
    "        },\n",
    "        {\n",
    "            'name':'country_code', \n",
    "            'value':{'stringValue': f'{country_code}'}\n",
    "        },\n",
    "        {\n",
    "            'name':'currency_code', \n",
    "            'value':{'stringValue': f'{currency_code}'}\n",
    "        },\n",
    "        {\n",
    "            'name':'is_completed', \n",
    "            'value':{'stringValue': f'{is_completed}'}\n",
    "        },\n",
    "        {\n",
    "            'name':'status', \n",
    "            'value':{'stringValue': f'{status}'}\n",
    "        }\n",
    "    ]"
   ]
  },
  {
   "cell_type": "markdown",
   "metadata": {},
   "source": [
    "#### Transformando dados para se adequares à tabela do DW"
   ]
  },
  {
   "cell_type": "code",
   "execution_count": 2,
   "metadata": {},
   "outputs": [],
   "source": [
    "from pyspark.context import SparkContext\n",
    "from pyspark.sql.session import SparkSession\n",
    "from pyspark.sql.types import *\n",
    "from pyspark.sql.utils import AnalysisException\n",
    "from pyspark.sql.functions import to_json, struct, col, size, explode, when, UserDefinedFunction\n",
    "from pyspark.sql.types import Row\n",
    "\n",
    "spark = SparkSession \\\n",
    "    .builder \\\n",
    "    .appName('Insert orders data on data warehouse')\\\n",
    "    .getOrCreate()"
   ]
  },
  {
   "cell_type": "code",
   "execution_count": 3,
   "metadata": {},
   "outputs": [],
   "source": [
    "READ_PATH = \"../../../data/datalake/raw_data/orders/parquet_stage/ingestion_month=02/ingestion_day=01/ingestion_hour=00\"\n",
    "df = spark.read.parquet(READ_PATH)"
   ]
  },
  {
   "cell_type": "code",
   "execution_count": 4,
   "metadata": {},
   "outputs": [],
   "source": [
    "cols = [\n",
    "    'id','hostname','status', 'shippingdata',\n",
    "    'items','sellerorderid','ordergroup', 'creationdate',\n",
    "    'origin','value','storepreferencesdata', 'iscompleted'\n",
    "]\n",
    "select_df = df.select(*cols)\n",
    "\n",
    "select_df = select_df.withColumnRenamed(\"hostname\", \"subaccount\")\n",
    "select_df = select_df.withColumnRenamed(\"sellerorderid\", \"seller_order_id\")\n",
    "select_df = select_df.withColumnRenamed(\"ordergroup\", \"order_group\")\n",
    "select_df = select_df.withColumnRenamed(\"origin\", \"origin_code\")\n",
    "select_df = select_df.withColumnRenamed(\"value\", \"total_value\")\n",
    "\n",
    "iscompleted_to_int = when(col(\"iscompleted\") == True, 1).otherwise(0)\n",
    "select_df = select_df.withColumn(\"is_completed\", iscompleted_to_int)\n",
    "select_df = select_df.withColumn(\"country_code\", col(\"storepreferencesdata.CountryCode\"))\n",
    "select_df = select_df.withColumn(\"currency_code\", col(\"storepreferencesdata.CurrencyCode\"))\n",
    "select_df = select_df.withColumn(\"number_itens\", size(col(\"items\")))\n",
    "\n",
    "# from pyspark.sql import Row\n",
    "# def replace_none_with_null(r):\n",
    "#     return Row(**{k: None if v == \"None\" else v for k, v in r.asDict().items()})\n",
    "# select_df = select_df.rdd.map(lambda x: replace_none_with_null(x)).toDF()\n",
    "\n",
    "select_df = select_df.drop(\"items\")\n",
    "select_df = select_df.drop(\"iscompleted\")\n",
    "select_df = select_df.drop(\"storepreferencesdata\")\n",
    "\n",
    "# select_df = select_df.limit(50)"
   ]
  },
  {
   "cell_type": "code",
   "execution_count": null,
   "metadata": {},
   "outputs": [],
   "source": [
    "# fixing string creation date\n",
    "\n",
    "def format_datetime_str(datetime_str):\n",
    "    datetime_pattern = '%Y-%m-%dT%H:%M:%S.%f'\n",
    "    datetime_str_without_UTC = datetime_str[:-len('XZ')]\n",
    "    datetime_object = datetime.strptime(datetime_str_without_UTC, datetime_pattern)\n",
    "    return str(datetime_object.replace(microsecond=0))\n",
    "\n",
    "format_datetime_str_UDF = UserDefinedFunction(format_datetime_str, StringType())\n",
    "select_df = select_df.withColumn('creation_date', format_datetime_str_UDF(select_df.creationdate))\n",
    "select_df = select_df.drop(\"creationdate\")"
   ]
  },
  {
   "cell_type": "code",
   "execution_count": null,
   "metadata": {},
   "outputs": [],
   "source": [
    "pkeys = [\n",
    "    'id','subaccount','seller_order_id','order_group'\n",
    "]\n",
    "\n",
    "order_item_has_pickup = when(col(\"PickupStoreInfo.IsPickupStore\") == True, 1).otherwise(0)\n",
    "\n",
    "itmd_df = select_df\\\n",
    "    .select(*pkeys, explode(\"shippingdata.LogisticsInfo\").alias(\"LogisticsInfo\")) \\\n",
    "    .select(*pkeys, \"LogisticsInfo.PickupStoreInfo\", \"LogisticsInfo.ItemIndex\") \\\n",
    "    .withColumn(\"item_with_pickup\", order_item_has_pickup) \\\n",
    "    .select(*pkeys, \"item_with_pickup\", \"ItemIndex\") \\\n",
    "    .groupby(*pkeys, \"item_with_pickup\").count()"
   ]
  },
  {
   "cell_type": "code",
   "execution_count": null,
   "metadata": {},
   "outputs": [],
   "source": [
    "# itmd_df.show()"
   ]
  },
  {
   "cell_type": "code",
   "execution_count": null,
   "metadata": {},
   "outputs": [],
   "source": [
    "itmd_df_pickup = itmd_df.where(col(\"item_with_pickup\") == 1)\n",
    "itmd_df_pickup = itmd_df_pickup.withColumnRenamed(\"count\", \"pickup_itens\")\n",
    "itmd_df_pickup = itmd_df_pickup.drop(\"item_with_pickup\")\n",
    "\n",
    "itmd_df = itmd_df.drop(\"count\", \"item_with_pickup\")"
   ]
  },
  {
   "cell_type": "code",
   "execution_count": null,
   "metadata": {},
   "outputs": [],
   "source": [
    "# itmd_df_pickup.show()"
   ]
  },
  {
   "cell_type": "code",
   "execution_count": null,
   "metadata": {},
   "outputs": [],
   "source": [
    "joined = itmd_df.join(itmd_df_pickup, on=pkeys, how='left')"
   ]
  },
  {
   "cell_type": "code",
   "execution_count": null,
   "metadata": {},
   "outputs": [],
   "source": [
    "# joined.toPandas().head()"
   ]
  },
  {
   "cell_type": "code",
   "execution_count": null,
   "metadata": {},
   "outputs": [],
   "source": [
    "# Quando order não tem pickup itens, `pickup_itens` = null. Substituindo null por 0.\n",
    "\n",
    "joined = joined.na.fill(0)"
   ]
  },
  {
   "cell_type": "code",
   "execution_count": null,
   "metadata": {},
   "outputs": [],
   "source": [
    "# Trazendo o restante das colunas para os dados\n",
    "\n",
    "select_df = select_df.drop('shippingdata')\n",
    "\n",
    "orders = select_df.join(joined, on=pkeys, how='left')"
   ]
  },
  {
   "cell_type": "code",
   "execution_count": null,
   "metadata": {},
   "outputs": [],
   "source": [
    "# orders.select(*pkeys, 'origin_code').show()"
   ]
  },
  {
   "cell_type": "code",
   "execution_count": null,
   "metadata": {},
   "outputs": [],
   "source": [
    "# Dealing with cases where pickup_itens are null\n",
    "\n",
    "pickup_null_to_zero = when(col(\"pickup_itens\").isNull(), 0).otherwise(col(\"pickup_itens\"))\n",
    "orders = orders.withColumn(\"pickup_itens\", pickup_null_to_zero)"
   ]
  },
  {
   "cell_type": "code",
   "execution_count": null,
   "metadata": {},
   "outputs": [],
   "source": [
    "orders.toPandas().to_csv('output.csv', index=False)"
   ]
  },
  {
   "cell_type": "markdown",
   "metadata": {},
   "source": [
    "#### Enviando dados"
   ]
  },
  {
   "cell_type": "code",
   "execution_count": null,
   "metadata": {},
   "outputs": [],
   "source": [
    "# %%timeit\n",
    "# transforming df in list\n",
    "# orders_list = orders.rdd \\\n",
    "#     .map(lambda row: \n",
    "#          {'id': row.id, \n",
    "#           'subaccount': row.subaccount, \n",
    "#           'seller_order_id': row.seller_order_id, \n",
    "#           'order_group': row.order_group, \n",
    "#           'pickup_itens': row.pickup_itens, \n",
    "#           'status': row.status, \n",
    "#           'creation_date': row.creation_date, \n",
    "#           'origin_code': row.origin_code,\n",
    "#           'total_value': row.total_value,\n",
    "#           'is_completed': row.is_completed,\n",
    "#           'country_code': row.country_code,\n",
    "#           'currency_code': row.currency_code,\n",
    "#           'number_itens': row.number_itens}) \\\n",
    "#     .collect()"
   ]
  },
  {
   "cell_type": "code",
   "execution_count": null,
   "metadata": {},
   "outputs": [],
   "source": [
    "# transforming df in list\n",
    "orders_list = orders.rdd \\\n",
    "    .map(lambda row: \n",
    "         {'id': row.id, \n",
    "          'subaccount': row.subaccount, \n",
    "          'seller_order_id': row.seller_order_id, \n",
    "          'order_group': row.order_group, \n",
    "          'pickup_itens': row.pickup_itens, \n",
    "          'status': row.status, \n",
    "          'creation_date': row.creation_date, \n",
    "          'origin_code': row.origin_code,\n",
    "          'total_value': row.total_value,\n",
    "          'is_completed': row.is_completed,\n",
    "          'country_code': row.country_code,\n",
    "          'currency_code': row.currency_code,\n",
    "          'number_itens': row.number_itens}) \\\n",
    "    .collect()"
   ]
  },
  {
   "cell_type": "code",
   "execution_count": null,
   "metadata": {},
   "outputs": [],
   "source": [
    "# transforming orders list on sql_parameter\n",
    "\n",
    "sql_parameters_set = [get_sql_params(**row) for row in orders_list]"
   ]
  },
  {
   "cell_type": "code",
   "execution_count": null,
   "metadata": {},
   "outputs": [],
   "source": [
    "%%timeit -n 1 -r 1\n",
    "\n",
    "# sending batch sql statements in buffers of 100 orders\n",
    "\n",
    "for i in range(0, len(sql_parameters_set), 100):\n",
    "    if i+100 > len(sql_parameters_set):\n",
    "        response = batch_execute_statement(sql, sql_parameters_set[i:])\n",
    "    else:\n",
    "        response = batch_execute_statement(sql, sql_parameters_set[i:i+100])"
   ]
  },
  {
   "cell_type": "code",
   "execution_count": null,
   "metadata": {},
   "outputs": [],
   "source": [
    "from pyspark.sql.functions import length\n",
    "orders.where(length(col(\"status\")) > 20).toPandas()"
   ]
  },
  {
   "cell_type": "code",
   "execution_count": null,
   "metadata": {},
   "outputs": [],
   "source": [
    "orders.head()"
   ]
  }
 ],
 "metadata": {
  "kernelspec": {
   "display_name": "Python 3",
   "language": "python",
   "name": "python3"
  },
  "language_info": {
   "codemirror_mode": {
    "name": "ipython",
    "version": 3
   },
   "file_extension": ".py",
   "mimetype": "text/x-python",
   "name": "python",
   "nbconvert_exporter": "python",
   "pygments_lexer": "ipython3",
   "version": "3.7.6"
  }
 },
 "nbformat": 4,
 "nbformat_minor": 4
}