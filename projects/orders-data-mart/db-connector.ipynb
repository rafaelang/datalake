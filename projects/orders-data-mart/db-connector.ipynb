{
 "cells": [
  {
   "cell_type": "code",
   "execution_count": 1,
   "metadata": {},
   "outputs": [],
   "source": [
    "import mysql.connector"
   ]
  },
  {
   "cell_type": "code",
   "execution_count": 8,
   "metadata": {},
   "outputs": [],
   "source": [
    "import pandas as pd"
   ]
  },
  {
   "cell_type": "code",
   "execution_count": 5,
   "metadata": {},
   "outputs": [],
   "source": [
    "host=\"brand-test-2-serverless.cluster-c2gnry2r6kzm.us-east-2.rds.amazonaws.com\"\n",
    "user=\"admin\"\n",
    "passwd=\"vtex12345\"\n",
    "db_name=\"data_mart_brand\"\n",
    "\n",
    "mydb = mysql.connector.connect(\n",
    "  host=host,\n",
    "  user=user,\n",
    "  passwd=passwd,\n",
    "  database=db_name\n",
    ")"
   ]
  },
  {
   "cell_type": "code",
   "execution_count": 10,
   "metadata": {},
   "outputs": [],
   "source": [
    "df = pd.read_csv('dm.csv', delimiter=\";\")"
   ]
  },
  {
   "cell_type": "code",
   "execution_count": 6,
   "metadata": {},
   "outputs": [],
   "source": [
    "mycursor = mydb.cursor()"
   ]
  },
  {
   "cell_type": "code",
   "execution_count": 15,
   "metadata": {},
   "outputs": [
    {
     "name": "stdout",
     "output_type": "stream",
     "text": [
      "(1, 'was inserted.')\n"
     ]
    }
   ],
   "source": [
    "sql = \"\"\"\n",
    "INSERT INTO orders (id, subaccount, seller_order_id, order_group, \n",
    "    status, origin_code, total_value, is_completed, country_code, \n",
    "    currency_code, number_itens, creation_date, pickup_itens)\n",
    "\n",
    "VALUES (%s, %s, %s, %s, %s, %s, %s, %s, %s, %s, %s, %s, %s)\n",
    "\n",
    "ON DUPLICATE KEY UPDATE \n",
    "    is_completed = is_completed,\n",
    "    status = status, \n",
    "    number_itens = number_itens,\n",
    "    total_value = total_value,\n",
    "    pickup_itens = pickup_itens\n",
    "\"\"\"\n",
    "\n",
    "val = [tuple(x) for x in df.values]\n",
    "\n",
    "mycursor.executemany(sql, val)\n",
    "\n",
    "mydb.commit()\n",
    "\n",
    "print(mycursor.rowcount, \"was inserted.\")"
   ]
  },
  {
   "cell_type": "code",
   "execution_count": 19,
   "metadata": {},
   "outputs": [
    {
     "data": {
      "text/html": [
       "<div>\n",
       "<style scoped>\n",
       "    .dataframe tbody tr th:only-of-type {\n",
       "        vertical-align: middle;\n",
       "    }\n",
       "\n",
       "    .dataframe tbody tr th {\n",
       "        vertical-align: top;\n",
       "    }\n",
       "\n",
       "    .dataframe thead th {\n",
       "        text-align: right;\n",
       "    }\n",
       "</style>\n",
       "<table border=\"1\" class=\"dataframe\">\n",
       "  <thead>\n",
       "    <tr style=\"text-align: right;\">\n",
       "      <th></th>\n",
       "      <th>id</th>\n",
       "      <th>subaccount</th>\n",
       "      <th>seller_order_id</th>\n",
       "      <th>order_group</th>\n",
       "      <th>status</th>\n",
       "      <th>origin_code</th>\n",
       "      <th>total_value</th>\n",
       "      <th>is_completed</th>\n",
       "      <th>country_code</th>\n",
       "      <th>currency_code</th>\n",
       "      <th>number_itens</th>\n",
       "      <th>creation_date</th>\n",
       "      <th>pickup_itens</th>\n",
       "    </tr>\n",
       "  </thead>\n",
       "  <tbody>\n",
       "    <tr>\n",
       "      <th>0</th>\n",
       "      <td>1001431277803-01</td>\n",
       "      <td>tokstok</td>\n",
       "      <td>00-1001431277803-01</td>\n",
       "      <td>1001431277803</td>\n",
       "      <td>payment-approved</td>\n",
       "      <td>0</td>\n",
       "      <td>11785</td>\n",
       "      <td>1</td>\n",
       "      <td>BRA</td>\n",
       "      <td>BRL</td>\n",
       "      <td>1</td>\n",
       "      <td>2020-01-06 23:21:15</td>\n",
       "      <td>0.0</td>\n",
       "    </tr>\n",
       "  </tbody>\n",
       "</table>\n",
       "</div>"
      ],
      "text/plain": [
       "                 id subaccount      seller_order_id    order_group  \\\n",
       "0  1001431277803-01    tokstok  00-1001431277803-01  1001431277803   \n",
       "\n",
       "             status  origin_code  total_value  is_completed country_code  \\\n",
       "0  payment-approved            0        11785             1          BRA   \n",
       "\n",
       "  currency_code  number_itens        creation_date  pickup_itens  \n",
       "0           BRL             1  2020-01-06 23:21:15           0.0  "
      ]
     },
     "execution_count": 19,
     "metadata": {},
     "output_type": "execute_result"
    }
   ],
   "source": [
    "df.drop_duplicates().head(20)"
   ]
  },
  {
   "cell_type": "code",
   "execution_count": null,
   "metadata": {},
   "outputs": [],
   "source": []
  }
 ],
 "metadata": {
  "kernelspec": {
   "display_name": "Python 2",
   "language": "python",
   "name": "python2"
  },
  "language_info": {
   "codemirror_mode": {
    "name": "ipython",
    "version": 2
   },
   "file_extension": ".py",
   "mimetype": "text/x-python",
   "name": "python",
   "nbconvert_exporter": "python",
   "pygments_lexer": "ipython2",
   "version": "2.7.12"
  }
 },
 "nbformat": 4,
 "nbformat_minor": 2
}
